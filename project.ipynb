{
 "cells": [
  {
   "cell_type": "code",
   "execution_count": 1,
   "id": "fb04c731",
   "metadata": {},
   "outputs": [],
   "source": [
    "import pandas as pd\n",
    "import numpy as np"
   ]
  },
  {
   "cell_type": "code",
   "execution_count": 2,
   "id": "f5149af9",
   "metadata": {
    "scrolled": true
   },
   "outputs": [
    {
     "data": {
      "text/html": [
       "<div>\n",
       "<style scoped>\n",
       "    .dataframe tbody tr th:only-of-type {\n",
       "        vertical-align: middle;\n",
       "    }\n",
       "\n",
       "    .dataframe tbody tr th {\n",
       "        vertical-align: top;\n",
       "    }\n",
       "\n",
       "    .dataframe thead th {\n",
       "        text-align: right;\n",
       "    }\n",
       "</style>\n",
       "<table border=\"1\" class=\"dataframe\">\n",
       "  <thead>\n",
       "    <tr style=\"text-align: right;\">\n",
       "      <th></th>\n",
       "      <th>Time</th>\n",
       "      <th>V1</th>\n",
       "      <th>V2</th>\n",
       "      <th>V3</th>\n",
       "      <th>V4</th>\n",
       "      <th>V5</th>\n",
       "      <th>V6</th>\n",
       "      <th>V7</th>\n",
       "      <th>V8</th>\n",
       "      <th>V9</th>\n",
       "      <th>...</th>\n",
       "      <th>V21</th>\n",
       "      <th>V22</th>\n",
       "      <th>V23</th>\n",
       "      <th>V24</th>\n",
       "      <th>V25</th>\n",
       "      <th>V26</th>\n",
       "      <th>V27</th>\n",
       "      <th>V28</th>\n",
       "      <th>Amount</th>\n",
       "      <th>Class</th>\n",
       "    </tr>\n",
       "  </thead>\n",
       "  <tbody>\n",
       "    <tr>\n",
       "      <th>0</th>\n",
       "      <td>0</td>\n",
       "      <td>-1.359807</td>\n",
       "      <td>-0.072781</td>\n",
       "      <td>2.536347</td>\n",
       "      <td>1.378155</td>\n",
       "      <td>-0.338321</td>\n",
       "      <td>0.462388</td>\n",
       "      <td>0.239599</td>\n",
       "      <td>0.098698</td>\n",
       "      <td>0.363787</td>\n",
       "      <td>...</td>\n",
       "      <td>-0.018307</td>\n",
       "      <td>0.277838</td>\n",
       "      <td>-0.110474</td>\n",
       "      <td>0.066928</td>\n",
       "      <td>0.128539</td>\n",
       "      <td>-0.189115</td>\n",
       "      <td>0.133558</td>\n",
       "      <td>-0.021053</td>\n",
       "      <td>149.62</td>\n",
       "      <td>0</td>\n",
       "    </tr>\n",
       "    <tr>\n",
       "      <th>1</th>\n",
       "      <td>0</td>\n",
       "      <td>1.191857</td>\n",
       "      <td>0.266151</td>\n",
       "      <td>0.166480</td>\n",
       "      <td>0.448154</td>\n",
       "      <td>0.060018</td>\n",
       "      <td>-0.082361</td>\n",
       "      <td>-0.078803</td>\n",
       "      <td>0.085102</td>\n",
       "      <td>-0.255425</td>\n",
       "      <td>...</td>\n",
       "      <td>-0.225775</td>\n",
       "      <td>-0.638672</td>\n",
       "      <td>0.101288</td>\n",
       "      <td>-0.339846</td>\n",
       "      <td>0.167170</td>\n",
       "      <td>0.125895</td>\n",
       "      <td>-0.008983</td>\n",
       "      <td>0.014724</td>\n",
       "      <td>2.69</td>\n",
       "      <td>0</td>\n",
       "    </tr>\n",
       "    <tr>\n",
       "      <th>2</th>\n",
       "      <td>1</td>\n",
       "      <td>-1.358354</td>\n",
       "      <td>-1.340163</td>\n",
       "      <td>1.773209</td>\n",
       "      <td>0.379780</td>\n",
       "      <td>-0.503198</td>\n",
       "      <td>1.800499</td>\n",
       "      <td>0.791461</td>\n",
       "      <td>0.247676</td>\n",
       "      <td>-1.514654</td>\n",
       "      <td>...</td>\n",
       "      <td>0.247998</td>\n",
       "      <td>0.771679</td>\n",
       "      <td>0.909412</td>\n",
       "      <td>-0.689281</td>\n",
       "      <td>-0.327642</td>\n",
       "      <td>-0.139097</td>\n",
       "      <td>-0.055353</td>\n",
       "      <td>-0.059752</td>\n",
       "      <td>378.66</td>\n",
       "      <td>0</td>\n",
       "    </tr>\n",
       "    <tr>\n",
       "      <th>3</th>\n",
       "      <td>1</td>\n",
       "      <td>-0.966272</td>\n",
       "      <td>-0.185226</td>\n",
       "      <td>1.792993</td>\n",
       "      <td>-0.863291</td>\n",
       "      <td>-0.010309</td>\n",
       "      <td>1.247203</td>\n",
       "      <td>0.237609</td>\n",
       "      <td>0.377436</td>\n",
       "      <td>-1.387024</td>\n",
       "      <td>...</td>\n",
       "      <td>-0.108300</td>\n",
       "      <td>0.005274</td>\n",
       "      <td>-0.190321</td>\n",
       "      <td>-1.175575</td>\n",
       "      <td>0.647376</td>\n",
       "      <td>-0.221929</td>\n",
       "      <td>0.062723</td>\n",
       "      <td>0.061458</td>\n",
       "      <td>123.50</td>\n",
       "      <td>0</td>\n",
       "    </tr>\n",
       "    <tr>\n",
       "      <th>4</th>\n",
       "      <td>2</td>\n",
       "      <td>-1.158233</td>\n",
       "      <td>0.877737</td>\n",
       "      <td>1.548718</td>\n",
       "      <td>0.403034</td>\n",
       "      <td>-0.407193</td>\n",
       "      <td>0.095921</td>\n",
       "      <td>0.592941</td>\n",
       "      <td>-0.270533</td>\n",
       "      <td>0.817739</td>\n",
       "      <td>...</td>\n",
       "      <td>-0.009431</td>\n",
       "      <td>0.798278</td>\n",
       "      <td>-0.137458</td>\n",
       "      <td>0.141267</td>\n",
       "      <td>-0.206010</td>\n",
       "      <td>0.502292</td>\n",
       "      <td>0.219422</td>\n",
       "      <td>0.215153</td>\n",
       "      <td>69.99</td>\n",
       "      <td>0</td>\n",
       "    </tr>\n",
       "    <tr>\n",
       "      <th>...</th>\n",
       "      <td>...</td>\n",
       "      <td>...</td>\n",
       "      <td>...</td>\n",
       "      <td>...</td>\n",
       "      <td>...</td>\n",
       "      <td>...</td>\n",
       "      <td>...</td>\n",
       "      <td>...</td>\n",
       "      <td>...</td>\n",
       "      <td>...</td>\n",
       "      <td>...</td>\n",
       "      <td>...</td>\n",
       "      <td>...</td>\n",
       "      <td>...</td>\n",
       "      <td>...</td>\n",
       "      <td>...</td>\n",
       "      <td>...</td>\n",
       "      <td>...</td>\n",
       "      <td>...</td>\n",
       "      <td>...</td>\n",
       "      <td>...</td>\n",
       "    </tr>\n",
       "    <tr>\n",
       "      <th>39994</th>\n",
       "      <td>40049</td>\n",
       "      <td>-2.856643</td>\n",
       "      <td>-1.580895</td>\n",
       "      <td>1.183275</td>\n",
       "      <td>-1.862689</td>\n",
       "      <td>-2.579951</td>\n",
       "      <td>-1.043656</td>\n",
       "      <td>-1.007610</td>\n",
       "      <td>0.919906</td>\n",
       "      <td>-1.879716</td>\n",
       "      <td>...</td>\n",
       "      <td>-0.012102</td>\n",
       "      <td>-0.304192</td>\n",
       "      <td>-0.142939</td>\n",
       "      <td>0.659917</td>\n",
       "      <td>0.200746</td>\n",
       "      <td>-0.314130</td>\n",
       "      <td>0.273768</td>\n",
       "      <td>-0.199219</td>\n",
       "      <td>215.09</td>\n",
       "      <td>0</td>\n",
       "    </tr>\n",
       "    <tr>\n",
       "      <th>39995</th>\n",
       "      <td>40049</td>\n",
       "      <td>-1.051131</td>\n",
       "      <td>0.606656</td>\n",
       "      <td>0.441297</td>\n",
       "      <td>0.590587</td>\n",
       "      <td>-0.118730</td>\n",
       "      <td>1.010767</td>\n",
       "      <td>2.282192</td>\n",
       "      <td>-0.751310</td>\n",
       "      <td>0.141134</td>\n",
       "      <td>...</td>\n",
       "      <td>-0.168207</td>\n",
       "      <td>0.495169</td>\n",
       "      <td>-0.066540</td>\n",
       "      <td>-0.904026</td>\n",
       "      <td>-0.149187</td>\n",
       "      <td>-0.302797</td>\n",
       "      <td>-0.188726</td>\n",
       "      <td>-0.248812</td>\n",
       "      <td>280.18</td>\n",
       "      <td>0</td>\n",
       "    </tr>\n",
       "    <tr>\n",
       "      <th>39996</th>\n",
       "      <td>40049</td>\n",
       "      <td>1.188332</td>\n",
       "      <td>0.360587</td>\n",
       "      <td>-0.024267</td>\n",
       "      <td>1.179898</td>\n",
       "      <td>-0.095200</td>\n",
       "      <td>-0.975171</td>\n",
       "      <td>0.403633</td>\n",
       "      <td>-0.160097</td>\n",
       "      <td>-0.460291</td>\n",
       "      <td>...</td>\n",
       "      <td>0.063470</td>\n",
       "      <td>0.115945</td>\n",
       "      <td>-0.129453</td>\n",
       "      <td>0.527456</td>\n",
       "      <td>0.748484</td>\n",
       "      <td>-0.308659</td>\n",
       "      <td>-0.022350</td>\n",
       "      <td>0.003130</td>\n",
       "      <td>15.33</td>\n",
       "      <td>0</td>\n",
       "    </tr>\n",
       "    <tr>\n",
       "      <th>39997</th>\n",
       "      <td>40050</td>\n",
       "      <td>1.038810</td>\n",
       "      <td>-2.090833</td>\n",
       "      <td>0.852849</td>\n",
       "      <td>-0.847290</td>\n",
       "      <td>-2.112321</td>\n",
       "      <td>0.291188</td>\n",
       "      <td>-1.321491</td>\n",
       "      <td>0.007713</td>\n",
       "      <td>-0.771225</td>\n",
       "      <td>...</td>\n",
       "      <td>-0.059743</td>\n",
       "      <td>0.138289</td>\n",
       "      <td>-0.341212</td>\n",
       "      <td>-0.045303</td>\n",
       "      <td>0.516037</td>\n",
       "      <td>0.016258</td>\n",
       "      <td>0.051843</td>\n",
       "      <td>0.061811</td>\n",
       "      <td>236.19</td>\n",
       "      <td>0</td>\n",
       "    </tr>\n",
       "    <tr>\n",
       "      <th>39998</th>\n",
       "      <td>40052</td>\n",
       "      <td>1.211027</td>\n",
       "      <td>0.614544</td>\n",
       "      <td>-0.459212</td>\n",
       "      <td>0.900736</td>\n",
       "      <td>0.135725</td>\n",
       "      <td>-1.175774</td>\n",
       "      <td>0.337603</td>\n",
       "      <td>-0.198540</td>\n",
       "      <td>-0.188104</td>\n",
       "      <td>...</td>\n",
       "      <td>-0.105254</td>\n",
       "      <td>-0.214124</td>\n",
       "      <td>-0.013156</td>\n",
       "      <td>0.287419</td>\n",
       "      <td>0.453268</td>\n",
       "      <td>0.378507</td>\n",
       "      <td>-0.013994</td>\n",
       "      <td>0.042698</td>\n",
       "      <td>0.76</td>\n",
       "      <td>0</td>\n",
       "    </tr>\n",
       "  </tbody>\n",
       "</table>\n",
       "<p>39999 rows × 31 columns</p>\n",
       "</div>"
      ],
      "text/plain": [
       "        Time        V1        V2        V3        V4        V5        V6  \\\n",
       "0          0 -1.359807 -0.072781  2.536347  1.378155 -0.338321  0.462388   \n",
       "1          0  1.191857  0.266151  0.166480  0.448154  0.060018 -0.082361   \n",
       "2          1 -1.358354 -1.340163  1.773209  0.379780 -0.503198  1.800499   \n",
       "3          1 -0.966272 -0.185226  1.792993 -0.863291 -0.010309  1.247203   \n",
       "4          2 -1.158233  0.877737  1.548718  0.403034 -0.407193  0.095921   \n",
       "...      ...       ...       ...       ...       ...       ...       ...   \n",
       "39994  40049 -2.856643 -1.580895  1.183275 -1.862689 -2.579951 -1.043656   \n",
       "39995  40049 -1.051131  0.606656  0.441297  0.590587 -0.118730  1.010767   \n",
       "39996  40049  1.188332  0.360587 -0.024267  1.179898 -0.095200 -0.975171   \n",
       "39997  40050  1.038810 -2.090833  0.852849 -0.847290 -2.112321  0.291188   \n",
       "39998  40052  1.211027  0.614544 -0.459212  0.900736  0.135725 -1.175774   \n",
       "\n",
       "             V7        V8        V9  ...       V21       V22       V23  \\\n",
       "0      0.239599  0.098698  0.363787  ... -0.018307  0.277838 -0.110474   \n",
       "1     -0.078803  0.085102 -0.255425  ... -0.225775 -0.638672  0.101288   \n",
       "2      0.791461  0.247676 -1.514654  ...  0.247998  0.771679  0.909412   \n",
       "3      0.237609  0.377436 -1.387024  ... -0.108300  0.005274 -0.190321   \n",
       "4      0.592941 -0.270533  0.817739  ... -0.009431  0.798278 -0.137458   \n",
       "...         ...       ...       ...  ...       ...       ...       ...   \n",
       "39994 -1.007610  0.919906 -1.879716  ... -0.012102 -0.304192 -0.142939   \n",
       "39995  2.282192 -0.751310  0.141134  ... -0.168207  0.495169 -0.066540   \n",
       "39996  0.403633 -0.160097 -0.460291  ...  0.063470  0.115945 -0.129453   \n",
       "39997 -1.321491  0.007713 -0.771225  ... -0.059743  0.138289 -0.341212   \n",
       "39998  0.337603 -0.198540 -0.188104  ... -0.105254 -0.214124 -0.013156   \n",
       "\n",
       "            V24       V25       V26       V27       V28  Amount  Class  \n",
       "0      0.066928  0.128539 -0.189115  0.133558 -0.021053  149.62      0  \n",
       "1     -0.339846  0.167170  0.125895 -0.008983  0.014724    2.69      0  \n",
       "2     -0.689281 -0.327642 -0.139097 -0.055353 -0.059752  378.66      0  \n",
       "3     -1.175575  0.647376 -0.221929  0.062723  0.061458  123.50      0  \n",
       "4      0.141267 -0.206010  0.502292  0.219422  0.215153   69.99      0  \n",
       "...         ...       ...       ...       ...       ...     ...    ...  \n",
       "39994  0.659917  0.200746 -0.314130  0.273768 -0.199219  215.09      0  \n",
       "39995 -0.904026 -0.149187 -0.302797 -0.188726 -0.248812  280.18      0  \n",
       "39996  0.527456  0.748484 -0.308659 -0.022350  0.003130   15.33      0  \n",
       "39997 -0.045303  0.516037  0.016258  0.051843  0.061811  236.19      0  \n",
       "39998  0.287419  0.453268  0.378507 -0.013994  0.042698    0.76      0  \n",
       "\n",
       "[39999 rows x 31 columns]"
      ]
     },
     "execution_count": 2,
     "metadata": {},
     "output_type": "execute_result"
    }
   ],
   "source": [
    "data=pd.read_csv('creditcard.csv') \n",
    "data"
   ]
  },
  {
   "cell_type": "code",
   "execution_count": 3,
   "id": "f40168c9",
   "metadata": {},
   "outputs": [],
   "source": [
    "X=data.iloc[:,1:-1].values \n",
    "y=data.iloc[:,-1].values"
   ]
  },
  {
   "cell_type": "markdown",
   "id": "5042a448",
   "metadata": {},
   "source": [
    "SMOTE"
   ]
  },
  {
   "cell_type": "code",
   "execution_count": 4,
   "id": "0c92d420",
   "metadata": {},
   "outputs": [],
   "source": [
    "import imblearn\n",
    "from imblearn.over_sampling import SMOTE"
   ]
  },
  {
   "cell_type": "code",
   "execution_count": 5,
   "id": "4d89649b",
   "metadata": {},
   "outputs": [],
   "source": [
    "from sklearn.model_selection import train_test_split\n",
    "X_train, X_test, y_train, y_test = train_test_split(X,y, test_size = 0.2,random_state=0)"
   ]
  },
  {
   "cell_type": "code",
   "execution_count": 6,
   "id": "6a0681b7",
   "metadata": {},
   "outputs": [],
   "source": [
    "oversample = SMOTE()\n",
    "X_train, y_train = oversample.fit_resample(X_train, y_train)"
   ]
  },
  {
   "cell_type": "code",
   "execution_count": 7,
   "id": "3329b7e3",
   "metadata": {},
   "outputs": [],
   "source": [
    "from sklearn.preprocessing import StandardScaler \n",
    "scaler = StandardScaler()\n",
    "X_train=scaler.fit_transform(X_train) \n",
    "X_test=scaler.transform(X_test)"
   ]
  },
  {
   "cell_type": "markdown",
   "id": "ae421103",
   "metadata": {},
   "source": [
    "RF"
   ]
  },
  {
   "cell_type": "code",
   "execution_count": 8,
   "id": "877c4a70",
   "metadata": {},
   "outputs": [
    {
     "data": {
      "text/plain": [
       "RandomForestClassifier(criterion='entropy', n_estimators=10, random_state=0)"
      ]
     },
     "execution_count": 8,
     "metadata": {},
     "output_type": "execute_result"
    }
   ],
   "source": [
    "from sklearn.ensemble import RandomForestClassifier\n",
    "RF = RandomForestClassifier(n_estimators=10, criterion = 'entropy', random_state=0) \n",
    "RF.fit(X_train, y_train)"
   ]
  },
  {
   "cell_type": "code",
   "execution_count": 9,
   "id": "bd86de81",
   "metadata": {},
   "outputs": [
    {
     "data": {
      "text/plain": [
       "array([0, 0, 0, ..., 0, 0, 0])"
      ]
     },
     "execution_count": 9,
     "metadata": {},
     "output_type": "execute_result"
    }
   ],
   "source": [
    "pred_rf=RF.predict(X_test) \n",
    "pred_rf"
   ]
  },
  {
   "cell_type": "code",
   "execution_count": 10,
   "id": "f1003250",
   "metadata": {},
   "outputs": [
    {
     "data": {
      "text/plain": [
       "array([[7979,    1],\n",
       "       [   3,   17]])"
      ]
     },
     "execution_count": 10,
     "metadata": {},
     "output_type": "execute_result"
    }
   ],
   "source": [
    "from sklearn.metrics import confusion_matrix, classification_report\n",
    "cm_rf=confusion_matrix(y_test,pred_rf)\n",
    "cm_rf"
   ]
  },
  {
   "cell_type": "code",
   "execution_count": 11,
   "id": "6065b6d0",
   "metadata": {},
   "outputs": [
    {
     "name": "stdout",
     "output_type": "stream",
     "text": [
      "              precision    recall  f1-score   support\n",
      "\n",
      "           0       1.00      1.00      1.00      7980\n",
      "           1       0.94      0.85      0.89        20\n",
      "\n",
      "    accuracy                           1.00      8000\n",
      "   macro avg       0.97      0.92      0.95      8000\n",
      "weighted avg       1.00      1.00      1.00      8000\n",
      "\n"
     ]
    }
   ],
   "source": [
    "print(classification_report(y_test,pred_rf))"
   ]
  },
  {
   "cell_type": "markdown",
   "id": "7104ba25",
   "metadata": {},
   "source": [
    "SVC"
   ]
  },
  {
   "cell_type": "code",
   "execution_count": 12,
   "id": "88333bd2",
   "metadata": {},
   "outputs": [
    {
     "data": {
      "text/plain": [
       "SVC(random_state=0)"
      ]
     },
     "execution_count": 12,
     "metadata": {},
     "output_type": "execute_result"
    }
   ],
   "source": [
    "from sklearn.svm import SVC\n",
    "SVM_rbf = SVC(kernel=\"rbf\",random_state=0) \n",
    "SVM_rbf.fit(X_train, y_train)"
   ]
  },
  {
   "cell_type": "code",
   "execution_count": 13,
   "id": "612d6786",
   "metadata": {},
   "outputs": [
    {
     "data": {
      "text/plain": [
       "array([0, 0, 0, ..., 0, 0, 0])"
      ]
     },
     "execution_count": 13,
     "metadata": {},
     "output_type": "execute_result"
    }
   ],
   "source": [
    "pred_rbf=SVM_rbf.predict(X_test) \n",
    "pred_rbf"
   ]
  },
  {
   "cell_type": "code",
   "execution_count": 14,
   "id": "59e00bec",
   "metadata": {},
   "outputs": [
    {
     "data": {
      "text/plain": [
       "array([[7953,   27],\n",
       "       [   5,   15]])"
      ]
     },
     "execution_count": 14,
     "metadata": {},
     "output_type": "execute_result"
    }
   ],
   "source": [
    "cm_rbf=confusion_matrix(y_test,pred_rbf)\n",
    "cm_rbf"
   ]
  },
  {
   "cell_type": "code",
   "execution_count": 15,
   "id": "246ea24f",
   "metadata": {},
   "outputs": [
    {
     "name": "stdout",
     "output_type": "stream",
     "text": [
      "              precision    recall  f1-score   support\n",
      "\n",
      "           0       1.00      1.00      1.00      7980\n",
      "           1       0.36      0.75      0.48        20\n",
      "\n",
      "    accuracy                           1.00      8000\n",
      "   macro avg       0.68      0.87      0.74      8000\n",
      "weighted avg       1.00      1.00      1.00      8000\n",
      "\n"
     ]
    }
   ],
   "source": [
    "print(classification_report(y_test,pred_rbf))"
   ]
  },
  {
   "cell_type": "markdown",
   "id": "0f7db6df",
   "metadata": {},
   "source": [
    "ANN"
   ]
  },
  {
   "cell_type": "code",
   "execution_count": 16,
   "id": "068ab597",
   "metadata": {},
   "outputs": [
    {
     "name": "stderr",
     "output_type": "stream",
     "text": [
      "2023-04-27 18:31:22.988744: I tensorflow/core/platform/cpu_feature_guard.cc:182] This TensorFlow binary is optimized to use available CPU instructions in performance-critical operations.\n",
      "To enable the following instructions: AVX2 FMA, in other operations, rebuild TensorFlow with the appropriate compiler flags.\n"
     ]
    }
   ],
   "source": [
    "import tensorflow as tf"
   ]
  },
  {
   "cell_type": "code",
   "execution_count": 17,
   "id": "b436d59b",
   "metadata": {},
   "outputs": [],
   "source": [
    "ANN=tf.keras.models.Sequential()"
   ]
  },
  {
   "cell_type": "code",
   "execution_count": 18,
   "id": "54be2eeb",
   "metadata": {},
   "outputs": [],
   "source": [
    "ANN.add(tf.keras.layers.Dense(units=6,activation='relu'))"
   ]
  },
  {
   "cell_type": "code",
   "execution_count": 19,
   "id": "dac70112",
   "metadata": {},
   "outputs": [],
   "source": [
    "ANN.add(tf.keras.layers.Dense(units=6,activation='relu'))"
   ]
  },
  {
   "cell_type": "code",
   "execution_count": 20,
   "id": "5fdd579f",
   "metadata": {},
   "outputs": [],
   "source": [
    "ANN.add(tf.keras.layers.Dense(units=1,activation='sigmoid'))"
   ]
  },
  {
   "cell_type": "code",
   "execution_count": 21,
   "id": "e9214e37",
   "metadata": {},
   "outputs": [],
   "source": [
    "ANN.compile(optimizer='adam',loss='binary_crossentropy',metrics=['accuracy'])"
   ]
  },
  {
   "cell_type": "code",
   "execution_count": 22,
   "id": "feb9fb92",
   "metadata": {},
   "outputs": [
    {
     "name": "stdout",
     "output_type": "stream",
     "text": [
      "Epoch 1/5\n",
      "1995/1995 [==============================] - 6s 2ms/step - loss: 0.1177 - accuracy: 0.9595\n",
      "Epoch 2/5\n",
      "1995/1995 [==============================] - 7s 3ms/step - loss: 0.0400 - accuracy: 0.9857\n",
      "Epoch 3/5\n",
      "1995/1995 [==============================] - 5s 3ms/step - loss: 0.0345 - accuracy: 0.9877\n",
      "Epoch 4/5\n",
      "1995/1995 [==============================] - 4s 2ms/step - loss: 0.0314 - accuracy: 0.9885\n",
      "Epoch 5/5\n",
      "1995/1995 [==============================] - 4s 2ms/step - loss: 0.0257 - accuracy: 0.9918\n"
     ]
    },
    {
     "data": {
      "text/plain": [
       "<keras.callbacks.History at 0x7f7dbb5fde50>"
      ]
     },
     "execution_count": 22,
     "metadata": {},
     "output_type": "execute_result"
    }
   ],
   "source": [
    "ANN.fit(X_train, y_train, batch_size=32, epochs=5)"
   ]
  },
  {
   "cell_type": "code",
   "execution_count": 23,
   "id": "1691b41a",
   "metadata": {},
   "outputs": [
    {
     "name": "stdout",
     "output_type": "stream",
     "text": [
      "250/250 [==============================] - 1s 2ms/step\n"
     ]
    }
   ],
   "source": [
    "pred_ANN=ANN.predict(X_test)\n",
    "pred_ANN=(pred_ANN>0.5)"
   ]
  },
  {
   "cell_type": "code",
   "execution_count": 24,
   "id": "e392259d",
   "metadata": {},
   "outputs": [
    {
     "data": {
      "text/plain": [
       "array([[7903,   77],\n",
       "       [   1,   19]])"
      ]
     },
     "execution_count": 24,
     "metadata": {},
     "output_type": "execute_result"
    }
   ],
   "source": [
    "cm_ann=confusion_matrix(y_test,pred_ANN)\n",
    "cm_ann"
   ]
  },
  {
   "cell_type": "code",
   "execution_count": 25,
   "id": "03e59790",
   "metadata": {},
   "outputs": [
    {
     "name": "stdout",
     "output_type": "stream",
     "text": [
      "              precision    recall  f1-score   support\n",
      "\n",
      "           0       1.00      0.99      1.00      7980\n",
      "           1       0.20      0.95      0.33        20\n",
      "\n",
      "    accuracy                           0.99      8000\n",
      "   macro avg       0.60      0.97      0.66      8000\n",
      "weighted avg       1.00      0.99      0.99      8000\n",
      "\n"
     ]
    }
   ],
   "source": [
    "print(classification_report(y_test,pred_ANN))"
   ]
  },
  {
   "cell_type": "markdown",
   "id": "568c56f6",
   "metadata": {},
   "source": [
    "KNN"
   ]
  },
  {
   "cell_type": "code",
   "execution_count": 26,
   "id": "6a740a77",
   "metadata": {},
   "outputs": [
    {
     "data": {
      "text/plain": [
       "KNeighborsClassifier(metric='chebyshev')"
      ]
     },
     "execution_count": 26,
     "metadata": {},
     "output_type": "execute_result"
    }
   ],
   "source": [
    "from sklearn.neighbors import KNeighborsClassifier\n",
    "KNN = KNeighborsClassifier(n_neighbors=5,metric=\"chebyshev\",p=2) \n",
    "KNN.fit(X_train, y_train)"
   ]
  },
  {
   "cell_type": "code",
   "execution_count": 27,
   "id": "58ea1ef2",
   "metadata": {},
   "outputs": [
    {
     "data": {
      "text/plain": [
       "array([0, 0, 0, ..., 0, 0, 0])"
      ]
     },
     "execution_count": 27,
     "metadata": {},
     "output_type": "execute_result"
    }
   ],
   "source": [
    "pred_knn=SVM_rbf.predict(X_test) \n",
    "pred_knn"
   ]
  },
  {
   "cell_type": "code",
   "execution_count": 28,
   "id": "24793ab0",
   "metadata": {},
   "outputs": [
    {
     "data": {
      "text/plain": [
       "array([[7953,   27],\n",
       "       [   5,   15]])"
      ]
     },
     "execution_count": 28,
     "metadata": {},
     "output_type": "execute_result"
    }
   ],
   "source": [
    "cm_knn=confusion_matrix(y_test,pred_knn)\n",
    "cm_knn"
   ]
  },
  {
   "cell_type": "code",
   "execution_count": 29,
   "id": "f2173f04",
   "metadata": {},
   "outputs": [
    {
     "name": "stdout",
     "output_type": "stream",
     "text": [
      "              precision    recall  f1-score   support\n",
      "\n",
      "           0       1.00      1.00      1.00      7980\n",
      "           1       0.36      0.75      0.48        20\n",
      "\n",
      "    accuracy                           1.00      8000\n",
      "   macro avg       0.68      0.87      0.74      8000\n",
      "weighted avg       1.00      1.00      1.00      8000\n",
      "\n"
     ]
    }
   ],
   "source": [
    "print(classification_report(y_test,pred_knn))"
   ]
  },
  {
   "cell_type": "markdown",
   "id": "87571546",
   "metadata": {},
   "source": [
    "Naive"
   ]
  },
  {
   "cell_type": "code",
   "execution_count": 30,
   "id": "c6a064f0",
   "metadata": {},
   "outputs": [
    {
     "data": {
      "text/plain": [
       "GaussianNB()"
      ]
     },
     "execution_count": 30,
     "metadata": {},
     "output_type": "execute_result"
    }
   ],
   "source": [
    "from sklearn.naive_bayes import GaussianNB \n",
    "bayes = GaussianNB() \n",
    "bayes.fit(X_train, y_train)"
   ]
  },
  {
   "cell_type": "code",
   "execution_count": 31,
   "id": "1c62d5c3",
   "metadata": {},
   "outputs": [
    {
     "data": {
      "text/plain": [
       "array([0, 0, 0, ..., 0, 0, 0])"
      ]
     },
     "execution_count": 31,
     "metadata": {},
     "output_type": "execute_result"
    }
   ],
   "source": [
    "pred_bayes=SVM_rbf.predict(X_test) \n",
    "pred_bayes"
   ]
  },
  {
   "cell_type": "code",
   "execution_count": 32,
   "id": "c8929db6",
   "metadata": {},
   "outputs": [
    {
     "data": {
      "text/plain": [
       "array([[7953,   27],\n",
       "       [   5,   15]])"
      ]
     },
     "execution_count": 32,
     "metadata": {},
     "output_type": "execute_result"
    }
   ],
   "source": [
    "cm_bayes=confusion_matrix(y_test,pred_bayes)\n",
    "cm_bayes"
   ]
  },
  {
   "cell_type": "code",
   "execution_count": 33,
   "id": "bf9504e6",
   "metadata": {},
   "outputs": [
    {
     "name": "stdout",
     "output_type": "stream",
     "text": [
      "              precision    recall  f1-score   support\n",
      "\n",
      "           0       1.00      1.00      1.00      7980\n",
      "           1       0.36      0.75      0.48        20\n",
      "\n",
      "    accuracy                           1.00      8000\n",
      "   macro avg       0.68      0.87      0.74      8000\n",
      "weighted avg       1.00      1.00      1.00      8000\n",
      "\n"
     ]
    }
   ],
   "source": [
    "print(classification_report(y_test,pred_bayes))"
   ]
  },
  {
   "cell_type": "markdown",
   "id": "9dcdfc01",
   "metadata": {},
   "source": [
    "Logictis"
   ]
  },
  {
   "cell_type": "code",
   "execution_count": 34,
   "id": "f4a92bcc",
   "metadata": {},
   "outputs": [
    {
     "name": "stderr",
     "output_type": "stream",
     "text": [
      "/Users/jiyi/opt/anaconda3/lib/python3.9/site-packages/sklearn/linear_model/_logistic.py:814: ConvergenceWarning: lbfgs failed to converge (status=1):\n",
      "STOP: TOTAL NO. of ITERATIONS REACHED LIMIT.\n",
      "\n",
      "Increase the number of iterations (max_iter) or scale the data as shown in:\n",
      "    https://scikit-learn.org/stable/modules/preprocessing.html\n",
      "Please also refer to the documentation for alternative solver options:\n",
      "    https://scikit-learn.org/stable/modules/linear_model.html#logistic-regression\n",
      "  n_iter_i = _check_optimize_result(\n"
     ]
    },
    {
     "data": {
      "text/plain": [
       "LogisticRegression(random_state=0)"
      ]
     },
     "execution_count": 34,
     "metadata": {},
     "output_type": "execute_result"
    }
   ],
   "source": [
    "from sklearn.linear_model import LogisticRegression \n",
    "Logistic = LogisticRegression(random_state=0) \n",
    "Logistic.fit(X_train, y_train)"
   ]
  },
  {
   "cell_type": "code",
   "execution_count": 35,
   "id": "2cae13e9",
   "metadata": {},
   "outputs": [
    {
     "data": {
      "text/plain": [
       "array([0, 0, 0, ..., 0, 0, 0])"
      ]
     },
     "execution_count": 35,
     "metadata": {},
     "output_type": "execute_result"
    }
   ],
   "source": [
    "pred_Logistic=SVM_rbf.predict(X_test) \n",
    "pred_Logistic"
   ]
  },
  {
   "cell_type": "code",
   "execution_count": 38,
   "id": "94d262b7",
   "metadata": {},
   "outputs": [
    {
     "data": {
      "text/plain": [
       "array([[7953,   27],\n",
       "       [   5,   15]])"
      ]
     },
     "execution_count": 38,
     "metadata": {},
     "output_type": "execute_result"
    }
   ],
   "source": [
    "cm_Logistic=confusion_matrix(y_test,pred_Logistic)\n",
    "cm_Logistic"
   ]
  },
  {
   "cell_type": "code",
   "execution_count": 37,
   "id": "2d50e1d9",
   "metadata": {},
   "outputs": [
    {
     "name": "stdout",
     "output_type": "stream",
     "text": [
      "              precision    recall  f1-score   support\n",
      "\n",
      "           0       1.00      1.00      1.00      7980\n",
      "           1       0.36      0.75      0.48        20\n",
      "\n",
      "    accuracy                           1.00      8000\n",
      "   macro avg       0.68      0.87      0.74      8000\n",
      "weighted avg       1.00      1.00      1.00      8000\n",
      "\n"
     ]
    }
   ],
   "source": [
    "print(classification_report(y_test,pred_Logistic))"
   ]
  },
  {
   "cell_type": "code",
   "execution_count": 40,
   "id": "6aee5609",
   "metadata": {},
   "outputs": [
    {
     "data": {
      "text/plain": [
       "array([0, 0, 0, ..., 1, 1, 1])"
      ]
     },
     "execution_count": 40,
     "metadata": {},
     "output_type": "execute_result"
    }
   ],
   "source": []
  },
  {
   "cell_type": "code",
   "execution_count": null,
   "id": "4ca089a4",
   "metadata": {},
   "outputs": [],
   "source": []
  }
 ],
 "metadata": {
  "kernelspec": {
   "display_name": "Python 3 (ipykernel)",
   "language": "python",
   "name": "python3"
  },
  "language_info": {
   "codemirror_mode": {
    "name": "ipython",
    "version": 3
   },
   "file_extension": ".py",
   "mimetype": "text/x-python",
   "name": "python",
   "nbconvert_exporter": "python",
   "pygments_lexer": "ipython3",
   "version": "3.9.13"
  }
 },
 "nbformat": 4,
 "nbformat_minor": 5
}
